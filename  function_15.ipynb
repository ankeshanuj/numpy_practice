{
 "cells": [
  {
   "cell_type": "markdown",
   "id": "0a729d92",
   "metadata": {},
   "source": [
    "# Search"
   ]
  },
  {
   "cell_type": "code",
   "execution_count": 1,
   "id": "b78286af",
   "metadata": {},
   "outputs": [],
   "source": [
    "import numpy as np"
   ]
  },
  {
   "cell_type": "code",
   "execution_count": 7,
   "id": "600d73f5",
   "metadata": {},
   "outputs": [
    {
     "name": "stdout",
     "output_type": "stream",
     "text": [
      "(array([1, 4, 6], dtype=int64),)\n"
     ]
    }
   ],
   "source": [
    "var = np.array([1,2,3,4,2,5,2,5,6,7])\n",
    "\n",
    "\n",
    "x = np.where(var == 2)\n",
    "\n",
    "print(x) "
   ]
  },
  {
   "cell_type": "code",
   "execution_count": 8,
   "id": "d2a2e647",
   "metadata": {},
   "outputs": [
    {
     "name": "stdout",
     "output_type": "stream",
     "text": [
      "(array([], dtype=int64),)\n"
     ]
    }
   ],
   "source": [
    "var = np.array([1,2,3,4,2,5,2,5,6,7])\n",
    "\n",
    "\n",
    "x = np.where(var/2 == 0)\n",
    "\n",
    "print(x) "
   ]
  },
  {
   "cell_type": "code",
   "execution_count": 10,
   "id": "d2493d42",
   "metadata": {},
   "outputs": [
    {
     "name": "stdout",
     "output_type": "stream",
     "text": [
      "(array([0, 1, 3, 4, 6, 8], dtype=int64),)\n"
     ]
    }
   ],
   "source": [
    "var = np.array([1,2,3,4,5,6,7])\n",
    "\n",
    "\n",
    "x1 = np.where(var%2 == 0)\n",
    "\n",
    "print(x) "
   ]
  },
  {
   "cell_type": "markdown",
   "id": "a1c231ab",
   "metadata": {},
   "source": [
    "# Searchsorted"
   ]
  },
  {
   "cell_type": "code",
   "execution_count": 14,
   "id": "55439edc",
   "metadata": {},
   "outputs": [
    {
     "name": "stdout",
     "output_type": "stream",
     "text": [
      "5\n"
     ]
    }
   ],
   "source": [
    "var1 = np.array([1,2,3,4,2,5,2,5,6,7])\n",
    "\n",
    "\n",
    "x1 = np.searchsorted(var1 , 5)\n",
    "\n",
    "print(x1) "
   ]
  },
  {
   "cell_type": "code",
   "execution_count": 22,
   "id": "1c8459f7",
   "metadata": {},
   "outputs": [
    {
     "name": "stdout",
     "output_type": "stream",
     "text": [
      "[4 4 4]\n"
     ]
    }
   ],
   "source": [
    "var1 = np.array([1,2,3,4,9,10])\n",
    "\n",
    "\n",
    "x1 = np.searchsorted(var1 , [5,6,7],side=\"right\")\n",
    "\n",
    "print(x1) "
   ]
  },
  {
   "cell_type": "markdown",
   "id": "e44586fd",
   "metadata": {},
   "source": [
    "# sort"
   ]
  },
  {
   "cell_type": "code",
   "execution_count": 23,
   "id": "cd008dc6",
   "metadata": {},
   "outputs": [
    {
     "name": "stdout",
     "output_type": "stream",
     "text": [
      "[ 1  2  3  4  5  6  7 12 22 52]\n"
     ]
    }
   ],
   "source": [
    "var2 = np.array([4,2,3,1,12,5,22,52,6,7])\n",
    "\n",
    "print(np.sort(var2))"
   ]
  },
  {
   "cell_type": "code",
   "execution_count": 25,
   "id": "da5c4834",
   "metadata": {},
   "outputs": [
    {
     "name": "stdout",
     "output_type": "stream",
     "text": [
      "['a' 'd' 'e' 'r' 'y']\n"
     ]
    }
   ],
   "source": [
    "var3 = ([\"a\",\"d\",\"e\",\"r\",\"y\",])\n",
    "\n",
    "print(np.sort(var3))"
   ]
  },
  {
   "cell_type": "code",
   "execution_count": 26,
   "id": "176636c7",
   "metadata": {},
   "outputs": [
    {
     "name": "stdout",
     "output_type": "stream",
     "text": [
      "[[ 2  3  4]\n",
      " [ 1  5 12]\n",
      " [ 6 22 52]]\n"
     ]
    }
   ],
   "source": [
    "var2 = np.array([[4,2,3],[1,12,5],[22,52,6]])\n",
    "\n",
    "print(np.sort(var2))"
   ]
  },
  {
   "cell_type": "markdown",
   "id": "2a6fec6a",
   "metadata": {},
   "source": [
    "# filter"
   ]
  },
  {
   "cell_type": "code",
   "execution_count": 27,
   "id": "feabde54",
   "metadata": {},
   "outputs": [
    {
     "name": "stdout",
     "output_type": "stream",
     "text": [
      "['a' 'e' 'y']\n",
      "<class 'numpy.ndarray'>\n"
     ]
    }
   ],
   "source": [
    "var4 = np.array([\"a\",\"d\",\"e\",\"r\",\"y\",])\n",
    "f = [True,False,True,False,True]\n",
    "new = var4[f]\n",
    "print(new)\n",
    "print(type(new))"
   ]
  },
  {
   "cell_type": "code",
   "execution_count": null,
   "id": "a393dc97",
   "metadata": {},
   "outputs": [],
   "source": []
  }
 ],
 "metadata": {
  "kernelspec": {
   "display_name": "Python 3 (ipykernel)",
   "language": "python",
   "name": "python3"
  },
  "language_info": {
   "codemirror_mode": {
    "name": "ipython",
    "version": 3
   },
   "file_extension": ".py",
   "mimetype": "text/x-python",
   "name": "python",
   "nbconvert_exporter": "python",
   "pygments_lexer": "ipython3",
   "version": "3.10.7"
  }
 },
 "nbformat": 4,
 "nbformat_minor": 5
}
