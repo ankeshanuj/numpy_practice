{
 "cells": [
  {
   "cell_type": "code",
   "execution_count": 1,
   "id": "61de980d",
   "metadata": {},
   "outputs": [],
   "source": [
    "import numpy as np"
   ]
  },
  {
   "cell_type": "code",
   "execution_count": 2,
   "id": "28073577",
   "metadata": {},
   "outputs": [
    {
     "name": "stdout",
     "output_type": "stream",
     "text": [
      "var :  [1 2 3 4]\n",
      "cpoy :  [1 2 3 4]\n"
     ]
    }
   ],
   "source": [
    "var = np.array([1,2,3,4])\n",
    "\n",
    "co = var.copy()\n",
    "\n",
    "print(\"var : \",var)\n",
    "print(\"cpoy : \",co)"
   ]
  },
  {
   "cell_type": "code",
   "execution_count": 5,
   "id": "ac2a5923",
   "metadata": {},
   "outputs": [
    {
     "name": "stdout",
     "output_type": "stream",
     "text": [
      "var :  [ 1 40  3  4]\n",
      "cpoy :  [1 2 3 4]\n"
     ]
    }
   ],
   "source": [
    "var = np.array([1,2,3,4])\n",
    "\n",
    "co = var.copy()\n",
    "var[1]=40\n",
    "\n",
    "print(\"var : \",var)\n",
    "print(\"cpoy : \",co)"
   ]
  },
  {
   "cell_type": "code",
   "execution_count": 4,
   "id": "0f21affd",
   "metadata": {},
   "outputs": [
    {
     "name": "stdout",
     "output_type": "stream",
     "text": [
      "var2 :  [9 8 7 6 5]\n",
      "view :  [9 8 7 6 5]\n"
     ]
    }
   ],
   "source": [
    "var2 = np.array([9,8,7,6,5])\n",
    "vi = var2.view()\n",
    "print(\"var2 : \",var2)\n",
    "print(\"view : \",vi)"
   ]
  },
  {
   "cell_type": "code",
   "execution_count": 6,
   "id": "5f6ee6da",
   "metadata": {},
   "outputs": [
    {
     "name": "stdout",
     "output_type": "stream",
     "text": [
      "var2 :  [ 9 40  7  6  5]\n",
      "view :  [ 9 40  7  6  5]\n"
     ]
    }
   ],
   "source": [
    "var2 = np.array([9,8,7,6,5])\n",
    "vi = var2.view()\n",
    "var2[1]=40\n",
    "print(\"var2 : \",var2)\n",
    "print(\"view : \",vi)"
   ]
  },
  {
   "cell_type": "code",
   "execution_count": null,
   "id": "d442e513",
   "metadata": {},
   "outputs": [],
   "source": []
  }
 ],
 "metadata": {
  "kernelspec": {
   "display_name": "Python 3 (ipykernel)",
   "language": "python",
   "name": "python3"
  },
  "language_info": {
   "codemirror_mode": {
    "name": "ipython",
    "version": 3
   },
   "file_extension": ".py",
   "mimetype": "text/x-python",
   "name": "python",
   "nbconvert_exporter": "python",
   "pygments_lexer": "ipython3",
   "version": "3.10.7"
  }
 },
 "nbformat": 4,
 "nbformat_minor": 5
}
