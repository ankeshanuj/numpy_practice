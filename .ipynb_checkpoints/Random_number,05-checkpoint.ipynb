{
 "cells": [
  {
   "cell_type": "markdown",
   "id": "693a2270",
   "metadata": {},
   "source": [
    "# Rand()"
   ]
  },
  {
   "cell_type": "code",
   "execution_count": 1,
   "id": "3084cc18",
   "metadata": {},
   "outputs": [
    {
     "name": "stdout",
     "output_type": "stream",
     "text": [
      "[0.37653063 0.72875788 0.1785958  0.79270516]\n"
     ]
    }
   ],
   "source": [
    "import numpy as np\n",
    "var = np.random.rand(4)\n",
    "print(var)"
   ]
  },
  {
   "cell_type": "code",
   "execution_count": 3,
   "id": "3f01258c",
   "metadata": {},
   "outputs": [
    {
     "data": {
      "text/plain": [
       "array([[0.6207861 , 0.95656419, 0.0698138 , 0.12296545, 0.2352255 ],\n",
       "       [0.8535187 , 0.03855467, 0.68401777, 0.78030004, 0.2994555 ]])"
      ]
     },
     "execution_count": 3,
     "metadata": {},
     "output_type": "execute_result"
    }
   ],
   "source": [
    "var1 = np.random.rand(2,5)\n",
    "var1"
   ]
  },
  {
   "cell_type": "markdown",
   "id": "7e195d95",
   "metadata": {},
   "source": [
    "# Randn()"
   ]
  },
  {
   "cell_type": "code",
   "execution_count": 4,
   "id": "323c5134",
   "metadata": {},
   "outputs": [
    {
     "data": {
      "text/plain": [
       "array([ 0.64609796, -0.3224714 , -0.83131068,  1.02699829, -1.26973051])"
      ]
     },
     "execution_count": 4,
     "metadata": {},
     "output_type": "execute_result"
    }
   ],
   "source": [
    "var2 = np.random.randn(5)\n",
    "var2"
   ]
  },
  {
   "cell_type": "markdown",
   "id": "4ca2dcee",
   "metadata": {},
   "source": [
    "# Ranf()"
   ]
  },
  {
   "cell_type": "code",
   "execution_count": 5,
   "id": "e90d4b5d",
   "metadata": {},
   "outputs": [
    {
     "data": {
      "text/plain": [
       "array([0.1540351 , 0.04920618, 0.45156328, 0.11301867, 0.58940589])"
      ]
     },
     "execution_count": 5,
     "metadata": {},
     "output_type": "execute_result"
    }
   ],
   "source": [
    "var3 = np.random.ranf(5)\n",
    "var3"
   ]
  },
  {
   "cell_type": "markdown",
   "id": "58ec2ddc",
   "metadata": {},
   "source": [
    "# Randint()"
   ]
  },
  {
   "cell_type": "code",
   "execution_count": 16,
   "id": "2e6fb978",
   "metadata": {},
   "outputs": [
    {
     "data": {
      "text/plain": [
       "array([38, 27,  5, 14, 41, 48, 19,  9, 46,  5])"
      ]
     },
     "execution_count": 16,
     "metadata": {},
     "output_type": "execute_result"
    }
   ],
   "source": [
    "var4 = np.random.randint(4,50,10)\n",
    "var4"
   ]
  },
  {
   "cell_type": "code",
   "execution_count": null,
   "id": "6c85ed6f",
   "metadata": {},
   "outputs": [],
   "source": [
    " "
   ]
  },
  {
   "cell_type": "code",
   "execution_count": null,
   "id": "412cae6b",
   "metadata": {},
   "outputs": [],
   "source": []
  }
 ],
 "metadata": {
  "kernelspec": {
   "display_name": "Python 3 (ipykernel)",
   "language": "python",
   "name": "python3"
  },
  "language_info": {
   "codemirror_mode": {
    "name": "ipython",
    "version": 3
   },
   "file_extension": ".py",
   "mimetype": "text/x-python",
   "name": "python",
   "nbconvert_exporter": "python",
   "pygments_lexer": "ipython3",
   "version": "3.10.7"
  }
 },
 "nbformat": 4,
 "nbformat_minor": 5
}
