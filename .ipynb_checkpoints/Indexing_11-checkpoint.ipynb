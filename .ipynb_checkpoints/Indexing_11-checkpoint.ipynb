{
 "cells": [
  {
   "cell_type": "code",
   "execution_count": 1,
   "id": "d69abacc",
   "metadata": {},
   "outputs": [],
   "source": [
    "import numpy as np"
   ]
  },
  {
   "cell_type": "code",
   "execution_count": 2,
   "id": "42ee4737",
   "metadata": {},
   "outputs": [
    {
     "name": "stdout",
     "output_type": "stream",
     "text": [
      "8\n",
      "8\n"
     ]
    }
   ],
   "source": [
    "var = np.array([9,8,7,6])\n",
    "print(var[1])\n",
    "print(var[-3])"
   ]
  },
  {
   "cell_type": "code",
   "execution_count": 3,
   "id": "0b476c8d",
   "metadata": {},
   "outputs": [
    {
     "name": "stdout",
     "output_type": "stream",
     "text": [
      "[[9 8 7]\n",
      " [4 5 6]]\n",
      "2\n",
      "\n",
      "8\n"
     ]
    }
   ],
   "source": [
    "var1 = np.array([[9,8,7,],[4,5,6]])\n",
    "print(var1)\n",
    "print(var1.ndim)\n",
    "print()\n",
    "print(var1[0,1])"
   ]
  },
  {
   "cell_type": "code",
   "execution_count": 4,
   "id": "a67883e6",
   "metadata": {},
   "outputs": [
    {
     "name": "stdout",
     "output_type": "stream",
     "text": [
      "[[[1 2]\n",
      "  [6 7]]]\n",
      "3\n",
      "\n",
      "7\n"
     ]
    }
   ],
   "source": [
    "var2 = np.array([[[1,2],[6,7]]])\n",
    "\n",
    "print(var2)\n",
    "print(var2.ndim)\n",
    "print()\n",
    "print(var2[0,1,1])"
   ]
  },
  {
   "cell_type": "markdown",
   "id": "8ad9837b",
   "metadata": {},
   "source": [
    "# Slicing"
   ]
  },
  {
   "cell_type": "code",
   "execution_count": 5,
   "id": "26a15ee0",
   "metadata": {},
   "outputs": [
    {
     "name": "stdout",
     "output_type": "stream",
     "text": [
      "[9 8 7 6 5 4 3]\n",
      "\n",
      "2 to 5 :  [8 7 6 5]\n",
      " 2 to End :  [8 7 6 5 4 3]\n",
      "start to 5 :  [8 7 6 5 4 3]\n",
      "stop :  [8 6]\n"
     ]
    }
   ],
   "source": [
    "var3 = np.array([9,8,7,6,5,4,3])\n",
    "print(var3)\n",
    "print()\n",
    "print(\"2 to 5 : \",var3[1:5])\n",
    "print(\" 2 to End : \",var3[1:])\n",
    "print(\"start to 5 : \",var3[1:])\n",
    "print(\"stop : \",var3[1:5:2])"
   ]
  },
  {
   "cell_type": "code",
   "execution_count": 6,
   "id": "c9f68126",
   "metadata": {},
   "outputs": [
    {
     "name": "stdout",
     "output_type": "stream",
     "text": [
      "[9 8 7 6 5 4 3]\n",
      "\n",
      "2 to 5 :  [8 7 6 5]\n",
      " 2 to End :  [8 7 6 5 4 3]\n",
      "start to 5 :  [8 7 6 5 4 3]\n",
      "stop :  [9 7 5 3]\n"
     ]
    }
   ],
   "source": [
    "var3 = np.array([9,8,7,6,5,4,3])\n",
    "print(var3)\n",
    "print()\n",
    "print(\"2 to 5 : \",var3[1:5])\n",
    "print(\" 2 to End : \",var3[1:])\n",
    "print(\"start to 5 : \",var3[1:])\n",
    "print(\"stop : \",var3[::2])"
   ]
  },
  {
   "cell_type": "code",
   "execution_count": 9,
   "id": "0742484d",
   "metadata": {},
   "outputs": [
    {
     "name": "stdout",
     "output_type": "stream",
     "text": [
      "[[ 1  2  3  4  5]\n",
      " [ 9  8  7  6  5]\n",
      " [11 12 13 14 15]]\n",
      "\n",
      "8 to 5 : [8 7 6 5]\n"
     ]
    }
   ],
   "source": [
    "var4 = np.array([[1,2,3,4,5],[9,8,7,6,5],[11,12,13,14,15,]])\n",
    "print(var4)\n",
    "print()\n",
    "print(\"8 to 5 :\",var4[1,1:])"
   ]
  },
  {
   "cell_type": "code",
   "execution_count": 10,
   "id": "ef080b46",
   "metadata": {},
   "outputs": [
    {
     "name": "stdout",
     "output_type": "stream",
     "text": [
      "[[ 1  2  3  4  5]\n",
      " [ 9  8  7  6  5]\n",
      " [11 12 13 14 15]]\n",
      "\n",
      "8 to 5 : [12 13 14 15]\n"
     ]
    }
   ],
   "source": [
    "var4 = np.array([[1,2,3,4,5],[9,8,7,6,5],[11,12,13,14,15,]])\n",
    "print(var4)\n",
    "print()\n",
    "print(\"8 to 5 :\",var4[2,1:])"
   ]
  },
  {
   "cell_type": "code",
   "execution_count": null,
   "id": "98bb75be",
   "metadata": {},
   "outputs": [],
   "source": []
  }
 ],
 "metadata": {
  "kernelspec": {
   "display_name": "Python 3 (ipykernel)",
   "language": "python",
   "name": "python3"
  },
  "language_info": {
   "codemirror_mode": {
    "name": "ipython",
    "version": 3
   },
   "file_extension": ".py",
   "mimetype": "text/x-python",
   "name": "python",
   "nbconvert_exporter": "python",
   "pygments_lexer": "ipython3",
   "version": "3.10.7"
  }
 },
 "nbformat": 4,
 "nbformat_minor": 5
}
