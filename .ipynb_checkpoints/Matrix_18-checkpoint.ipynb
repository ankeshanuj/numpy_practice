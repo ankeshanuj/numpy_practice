{
 "cells": [
  {
   "cell_type": "markdown",
   "id": "41c47b93",
   "metadata": {},
   "source": [
    "# Matrix"
   ]
  },
  {
   "cell_type": "code",
   "execution_count": 1,
   "id": "4e71fc4f",
   "metadata": {},
   "outputs": [],
   "source": [
    "import numpy as np "
   ]
  },
  {
   "cell_type": "code",
   "execution_count": 5,
   "id": "be5084c5",
   "metadata": {},
   "outputs": [
    {
     "name": "stdout",
     "output_type": "stream",
     "text": [
      "[[1 2 3]\n",
      " [1 2 3]]\n",
      "<class 'numpy.matrix'>\n"
     ]
    }
   ],
   "source": [
    "var = np.matrix([[1,2,3],[1,2,3,]])\n",
    "print(var)\n",
    "print(type(var))"
   ]
  },
  {
   "cell_type": "code",
   "execution_count": 6,
   "id": "fdb97b9c",
   "metadata": {},
   "outputs": [
    {
     "name": "stdout",
     "output_type": "stream",
     "text": [
      "[[1 2 3]\n",
      " [1 2 3]]\n",
      "<class 'numpy.ndarray'>\n"
     ]
    }
   ],
   "source": [
    "var1 = np.array([[1,2,3],[1,2,3]])\n",
    "print(var1)\n",
    "print(type(var1))"
   ]
  },
  {
   "cell_type": "markdown",
   "id": "fdb98f1a",
   "metadata": {},
   "source": [
    "# Arithmetic Operation"
   ]
  },
  {
   "cell_type": "code",
   "execution_count": 8,
   "id": "70ac6055",
   "metadata": {},
   "outputs": [
    {
     "name": "stdout",
     "output_type": "stream",
     "text": [
      "[[1 2]\n",
      " [1 2]]\n",
      "<class 'numpy.matrix'>\n",
      "[[3 6]\n",
      " [3 6]]\n"
     ]
    }
   ],
   "source": [
    "var = np.matrix([[1,2],[1,2]])\n",
    "var2 = np.matrix([[1,2],[1,2]])\n",
    "print(var)\n",
    "print(type(var))\n",
    "print(var*var2)"
   ]
  },
  {
   "cell_type": "code",
   "execution_count": 10,
   "id": "3f404657",
   "metadata": {},
   "outputs": [
    {
     "name": "stdout",
     "output_type": "stream",
     "text": [
      "[[1 2]\n",
      " [1 2]]\n",
      "<class 'numpy.matrix'>\n",
      "[[3 6]\n",
      " [3 6]]\n",
      "[[3 6]\n",
      " [3 6]]\n"
     ]
    }
   ],
   "source": [
    "var = np.matrix([[1,2],[1,2]])\n",
    "var2 = np.matrix([[1,2],[1,2]])\n",
    "print(var)\n",
    "print(type(var))\n",
    "print(var*var2)\n",
    "print(var.dot(var2))"
   ]
  },
  {
   "cell_type": "markdown",
   "id": "9cd77a48",
   "metadata": {},
   "source": [
    "# Transpose"
   ]
  },
  {
   "cell_type": "code",
   "execution_count": 13,
   "id": "bb4e5487",
   "metadata": {},
   "outputs": [
    {
     "name": "stdout",
     "output_type": "stream",
     "text": [
      "[[1 2 3]\n",
      " [4 5 6]]\n",
      "\n",
      "[[1 4]\n",
      " [2 5]\n",
      " [3 6]]\n",
      "[[1 4]\n",
      " [2 5]\n",
      " [3 6]]\n"
     ]
    }
   ],
   "source": [
    "var3 = np.matrix([[1,2,3],[4,5,6]])\n",
    "print(var3)\n",
    "print()\n",
    "print(np.transpose(var3))\n",
    "print(var3.T)"
   ]
  },
  {
   "cell_type": "markdown",
   "id": "f30451b7",
   "metadata": {},
   "source": [
    "# Swapaxes"
   ]
  },
  {
   "cell_type": "code",
   "execution_count": 16,
   "id": "6e83417f",
   "metadata": {},
   "outputs": [
    {
     "name": "stdout",
     "output_type": "stream",
     "text": [
      "[[1 2 3]\n",
      " [4 5 6]]\n",
      "\n",
      "[[1 4]\n",
      " [2 5]\n",
      " [3 6]]\n",
      "[[1 4]\n",
      " [2 5]\n",
      " [3 6]]\n",
      "\n",
      "[[1 4]\n",
      " [2 5]\n",
      " [3 6]]\n"
     ]
    }
   ],
   "source": [
    "var3 = np.matrix([[1,2,3],[4,5,6]])\n",
    "print(var3)\n",
    "print()\n",
    "print(np.transpose(var3))\n",
    "print(var3.T)\n",
    "print()\n",
    "print(np.swapaxes(var3,0,1))"
   ]
  },
  {
   "cell_type": "code",
   "execution_count": 18,
   "id": "a51e947d",
   "metadata": {},
   "outputs": [
    {
     "name": "stdout",
     "output_type": "stream",
     "text": [
      "[[1 2]\n",
      " [3 4]]\n",
      "\n",
      "[[1 3]\n",
      " [2 4]]\n"
     ]
    }
   ],
   "source": [
    "var4 = np.matrix([[1,2],[3,4]])\n",
    "print(var4)\n",
    "print()\n",
    "print(np.swapaxes(var4,0,1))"
   ]
  },
  {
   "cell_type": "markdown",
   "id": "5362fd70",
   "metadata": {},
   "source": [
    "# Inverse"
   ]
  },
  {
   "cell_type": "code",
   "execution_count": 19,
   "id": "824b9163",
   "metadata": {},
   "outputs": [
    {
     "name": "stdout",
     "output_type": "stream",
     "text": [
      "[[1 2]\n",
      " [3 4]]\n",
      "\n",
      "[[-2.   1. ]\n",
      " [ 1.5 -0.5]]\n"
     ]
    }
   ],
   "source": [
    "var4 = np.matrix([[1,2],[3,4]])\n",
    "print(var4)\n",
    "print()\n",
    "\n",
    "print(np.linalg.inv(var4))"
   ]
  },
  {
   "cell_type": "markdown",
   "id": "89106221",
   "metadata": {},
   "source": [
    "# Power"
   ]
  },
  {
   "cell_type": "code",
   "execution_count": 23,
   "id": "037241d4",
   "metadata": {},
   "outputs": [
    {
     "name": "stdout",
     "output_type": "stream",
     "text": [
      "[[1 2]\n",
      " [3 4]]\n",
      "\n",
      "[[ 7 10]\n",
      " [15 22]]\n",
      "[[1 0]\n",
      " [0 1]]\n",
      "\n",
      "[[ 5.5  -2.5 ]\n",
      " [-3.75  1.75]]\n"
     ]
    }
   ],
   "source": [
    "var4 = np.matrix([[1,2],[3,4]])\n",
    "print(var4)\n",
    "print()\n",
    "\n",
    "print(np.linalg.matrix_power(var4,2))\n",
    "print(np.linalg.matrix_power(var4,0))\n",
    "print()\n",
    "print(np.linalg.matrix_power(var4,-2))"
   ]
  },
  {
   "cell_type": "markdown",
   "id": "ae57509a",
   "metadata": {},
   "source": [
    "# Determinate"
   ]
  },
  {
   "cell_type": "code",
   "execution_count": 25,
   "id": "4d080d2c",
   "metadata": {},
   "outputs": [
    {
     "name": "stdout",
     "output_type": "stream",
     "text": [
      "[[1 2]\n",
      " [3 4]]\n",
      "\n",
      "-2.0000000000000004\n"
     ]
    }
   ],
   "source": [
    "var5 = np.matrix([[1,2],[3,4]])\n",
    "print(var5)\n",
    "print()\n",
    "print(np.linalg.det(var5))"
   ]
  },
  {
   "cell_type": "code",
   "execution_count": 26,
   "id": "6bc8ecd9",
   "metadata": {},
   "outputs": [
    {
     "name": "stdout",
     "output_type": "stream",
     "text": [
      "[[1 2 3]\n",
      " [3 4 3]\n",
      " [1 2 3]]\n",
      "\n",
      "0.0\n"
     ]
    }
   ],
   "source": [
    "var5 = np.matrix([[1,2,3],[3,4,3],[1,2,3]])\n",
    "print(var5)\n",
    "print()\n",
    "print(np.linalg.det(var5))"
   ]
  },
  {
   "cell_type": "code",
   "execution_count": null,
   "id": "b744fc10",
   "metadata": {},
   "outputs": [],
   "source": []
  }
 ],
 "metadata": {
  "kernelspec": {
   "display_name": "Python 3 (ipykernel)",
   "language": "python",
   "name": "python3"
  },
  "language_info": {
   "codemirror_mode": {
    "name": "ipython",
    "version": 3
   },
   "file_extension": ".py",
   "mimetype": "text/x-python",
   "name": "python",
   "nbconvert_exporter": "python",
   "pygments_lexer": "ipython3",
   "version": "3.10.7"
  }
 },
 "nbformat": 4,
 "nbformat_minor": 5
}
