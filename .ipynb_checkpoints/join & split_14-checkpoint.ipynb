{
 "cells": [
  {
   "cell_type": "markdown",
   "id": "0e484bf2",
   "metadata": {},
   "source": [
    "# join array"
   ]
  },
  {
   "cell_type": "code",
   "execution_count": 1,
   "id": "a0c68319",
   "metadata": {},
   "outputs": [],
   "source": [
    "import numpy as np"
   ]
  },
  {
   "cell_type": "code",
   "execution_count": 2,
   "id": "d1573277",
   "metadata": {},
   "outputs": [
    {
     "name": "stdout",
     "output_type": "stream",
     "text": [
      "[1 2 3 4 9 8 7 6]\n"
     ]
    }
   ],
   "source": [
    "var = np.array([1,2,3,4])\n",
    "var1 = np.array([9,8,7,6]) \n",
    "\n",
    "ar = np.concatenate((var,var1))\n",
    "\n",
    "print(ar)"
   ]
  },
  {
   "cell_type": "code",
   "execution_count": 13,
   "id": "0d29aadd",
   "metadata": {},
   "outputs": [
    {
     "name": "stdout",
     "output_type": "stream",
     "text": [
      "[[1 2]\n",
      " [3 4]]\n",
      "\n",
      "[[9 8]\n",
      " [7 6]]\n",
      "\n",
      "[[1 2 9 8]\n",
      " [3 4 7 6]]\n"
     ]
    }
   ],
   "source": [
    "var2 = np.array([[1,2],[3,4]])\n",
    "var3 = np.array([[9,8],[7,6]]) \n",
    "\n",
    "ar1 = np.concatenate((var2,var3),axis=1)\n",
    "\n",
    "print(var2)\n",
    "print()\n",
    "print(var3)\n",
    "print()\n",
    "print(ar1)"
   ]
  },
  {
   "cell_type": "code",
   "execution_count": 14,
   "id": "6cef8b80",
   "metadata": {},
   "outputs": [
    {
     "name": "stdout",
     "output_type": "stream",
     "text": [
      "[[1 2]\n",
      " [3 4]]\n",
      "\n",
      "[[9 8]\n",
      " [7 6]]\n",
      "\n",
      "[[1 2]\n",
      " [3 4]\n",
      " [9 8]\n",
      " [7 6]]\n"
     ]
    }
   ],
   "source": [
    "var2 = np.array([[1,2],[3,4]])\n",
    "var3 = np.array([[9,8],[7,6]]) \n",
    "\n",
    "ar1 = np.concatenate((var2,var3),axis=0)\n",
    "\n",
    "print(var2)\n",
    "print()\n",
    "print(var3)\n",
    "print()\n",
    "print(ar1)"
   ]
  },
  {
   "cell_type": "code",
   "execution_count": 15,
   "id": "76ba9c1a",
   "metadata": {},
   "outputs": [
    {
     "name": "stdout",
     "output_type": "stream",
     "text": [
      "[[1 9]\n",
      " [2 8]\n",
      " [3 7]\n",
      " [4 6]]\n"
     ]
    }
   ],
   "source": [
    "var4 = np.array([1,2,3,4])\n",
    "var5 = np.array([9,8,7,6])\n",
    "\n",
    "a_new = np.stack((var4,var5),axis = 1)\n",
    "\n",
    "print(a_new)\n"
   ]
  },
  {
   "cell_type": "code",
   "execution_count": 16,
   "id": "8eb0ffc4",
   "metadata": {},
   "outputs": [
    {
     "name": "stdout",
     "output_type": "stream",
     "text": [
      "[1 2 3 4 9 8 7 6]\n"
     ]
    }
   ],
   "source": [
    "var4 = np.array([1,2,3,4])\n",
    "var5 = np.array([9,8,7,6])\n",
    "\n",
    "a_new = np.hstack((var4,var5))\n",
    "\n",
    "print(a_new)\n"
   ]
  },
  {
   "cell_type": "code",
   "execution_count": 17,
   "id": "481805b8",
   "metadata": {},
   "outputs": [
    {
     "name": "stdout",
     "output_type": "stream",
     "text": [
      "[[1 2 3 4]\n",
      " [9 8 7 6]]\n"
     ]
    }
   ],
   "source": [
    "var4 = np.array([1,2,3,4])\n",
    "var5 = np.array([9,8,7,6])\n",
    "\n",
    "a_new = np.vstack((var4,var5))\n",
    "\n",
    "print(a_new)\n"
   ]
  },
  {
   "cell_type": "code",
   "execution_count": 18,
   "id": "2d179315",
   "metadata": {},
   "outputs": [
    {
     "name": "stdout",
     "output_type": "stream",
     "text": [
      "[[[1 9]\n",
      "  [2 8]\n",
      "  [3 7]\n",
      "  [4 6]]]\n"
     ]
    }
   ],
   "source": [
    "var4 = np.array([1,2,3,4])\n",
    "var5 = np.array([9,8,7,6])\n",
    "\n",
    "a_new = np.dstack((var4,var5))\n",
    "\n",
    "print(a_new)\n"
   ]
  },
  {
   "cell_type": "markdown",
   "id": "fee8d825",
   "metadata": {},
   "source": [
    "# Split"
   ]
  },
  {
   "cell_type": "code",
   "execution_count": 22,
   "id": "e1cceab8",
   "metadata": {},
   "outputs": [
    {
     "name": "stdout",
     "output_type": "stream",
     "text": [
      "[1 2 3 4 5 6]\n",
      "\n",
      "[array([1, 2]), array([3, 4]), array([5, 6])]\n",
      "<class 'list'>\n",
      "[1 2]\n"
     ]
    }
   ],
   "source": [
    "va = np.array([1,2,3,4,5,6])\n",
    "print(va)\n",
    "ab = np.array_split(va,3)\n",
    "print()\n",
    "print(ab)\n",
    "print(type(ab))\n",
    "print(ab[0])"
   ]
  },
  {
   "cell_type": "code",
   "execution_count": 24,
   "id": "865517af",
   "metadata": {},
   "outputs": [
    {
     "name": "stdout",
     "output_type": "stream",
     "text": [
      "[[1 2]\n",
      " [3 4]\n",
      " [5 6]]\n",
      "\n",
      "[array([[1, 2]]), array([[3, 4]]), array([[5, 6]])]\n",
      "<class 'list'>\n",
      "[[1 2]]\n"
     ]
    }
   ],
   "source": [
    "va1 = np.array([[1,2],[3,4],[5,6]])\n",
    "print(va1)\n",
    "ab1 = np.array_split(va1,3)\n",
    "print()\n",
    "print(ab1)\n",
    "print(type(ab1))\n",
    "print(ab1[0])"
   ]
  },
  {
   "cell_type": "code",
   "execution_count": null,
   "id": "b01ab729",
   "metadata": {},
   "outputs": [],
   "source": []
  }
 ],
 "metadata": {
  "kernelspec": {
   "display_name": "Python 3 (ipykernel)",
   "language": "python",
   "name": "python3"
  },
  "language_info": {
   "codemirror_mode": {
    "name": "ipython",
    "version": 3
   },
   "file_extension": ".py",
   "mimetype": "text/x-python",
   "name": "python",
   "nbconvert_exporter": "python",
   "pygments_lexer": "ipython3",
   "version": "3.10.7"
  }
 },
 "nbformat": 4,
 "nbformat_minor": 5
}
