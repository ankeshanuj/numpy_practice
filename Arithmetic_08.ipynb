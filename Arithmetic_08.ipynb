{
 "cells": [
  {
   "cell_type": "code",
   "execution_count": 1,
   "id": "f583d1b1",
   "metadata": {},
   "outputs": [],
   "source": [
    "import numpy as np"
   ]
  },
  {
   "cell_type": "code",
   "execution_count": 3,
   "id": "2e6b1640",
   "metadata": {},
   "outputs": [
    {
     "name": "stdout",
     "output_type": "stream",
     "text": [
      "min : 1\n",
      "max : 5\n"
     ]
    }
   ],
   "source": [
    "var = np.array([1,2,3,4,5,3,2])\n",
    "print(\"min :\",np.min(var))\n",
    "print(\"max :\",np.max(var))"
   ]
  },
  {
   "cell_type": "code",
   "execution_count": 6,
   "id": "f568cd96",
   "metadata": {},
   "outputs": [
    {
     "name": "stdout",
     "output_type": "stream",
     "text": [
      "min : 1\n",
      "max : 5\n"
     ]
    },
    {
     "data": {
      "text/plain": [
       "(None, 4)"
      ]
     },
     "execution_count": 6,
     "metadata": {},
     "output_type": "execute_result"
    }
   ],
   "source": [
    "var = np.array([1,2,3,4,5,3,2])\n",
    "print(\"min :\",np.min(var)),np.argmin(var)\n",
    "print(\"max :\",np.max(var)),np.argmax(var)"
   ]
  },
  {
   "cell_type": "code",
   "execution_count": 9,
   "id": "ac9abf8c",
   "metadata": {},
   "outputs": [
    {
     "name": "stdout",
     "output_type": "stream",
     "text": [
      "min : 1\n",
      "max : 5\n"
     ]
    },
    {
     "data": {
      "text/plain": [
       "(None, 3)"
      ]
     },
     "execution_count": 9,
     "metadata": {},
     "output_type": "execute_result"
    }
   ],
   "source": [
    "var = np.array([3,2,1,5,3,2])\n",
    "print(\"min :\",np.min(var)),np.argmin(var)\n",
    "print(\"max :\",np.max(var)),np.argmax(var)"
   ]
  },
  {
   "cell_type": "code",
   "execution_count": 10,
   "id": "28a6a3a1",
   "metadata": {},
   "outputs": [
    {
     "name": "stdout",
     "output_type": "stream",
     "text": [
      "[2 1 3]\n"
     ]
    }
   ],
   "source": [
    "var1 = np.array([[2,1,3],[9,5,6]])\n",
    "print(np.min(var1,axis=0))"
   ]
  },
  {
   "cell_type": "code",
   "execution_count": 11,
   "id": "05b776ce",
   "metadata": {},
   "outputs": [
    {
     "name": "stdout",
     "output_type": "stream",
     "text": [
      "min : 1\n",
      "max : 5\n",
      "sqrt : [1.73205081 1.41421356 1.         2.23606798 1.73205081 1.41421356]\n"
     ]
    }
   ],
   "source": [
    "var = np.array([3,2,1,5,3,2])\n",
    "print(\"min :\",np.min(var)),np.argmin(var)\n",
    "print(\"max :\",np.max(var)),np.argmax(var)\n",
    "print(\"sqrt :\",np.sqrt(var))"
   ]
  },
  {
   "cell_type": "code",
   "execution_count": 13,
   "id": "a8961125",
   "metadata": {},
   "outputs": [
    {
     "name": "stdout",
     "output_type": "stream",
     "text": [
      "[0.84147098 0.90929743 0.14112001]\n",
      "[ 0.54030231 -0.41614684 -0.9899925 ]\n",
      "[1 3 6]\n"
     ]
    }
   ],
   "source": [
    "var2 = np.array([1,2,3])\n",
    "print(np.sin(var2))\n",
    "print(np.cos(var2))\n",
    "print(np.cumsum(var2))"
   ]
  },
  {
   "cell_type": "code",
   "execution_count": null,
   "id": "71effc3f",
   "metadata": {},
   "outputs": [],
   "source": []
  }
 ],
 "metadata": {
  "kernelspec": {
   "display_name": "Python 3 (ipykernel)",
   "language": "python",
   "name": "python3"
  },
  "language_info": {
   "codemirror_mode": {
    "name": "ipython",
    "version": 3
   },
   "file_extension": ".py",
   "mimetype": "text/x-python",
   "name": "python",
   "nbconvert_exporter": "python",
   "pygments_lexer": "ipython3",
   "version": "3.10.7"
  }
 },
 "nbformat": 4,
 "nbformat_minor": 5
}
